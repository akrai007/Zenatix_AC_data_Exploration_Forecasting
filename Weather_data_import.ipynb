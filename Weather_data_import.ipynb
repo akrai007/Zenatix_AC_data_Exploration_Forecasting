{
 "cells": [
  {
   "cell_type": "code",
   "execution_count": 1,
   "id": "5ae396bf",
   "metadata": {},
   "outputs": [
    {
     "name": "stdout",
     "output_type": "stream",
     "text": [
      "Collecting wwo-hist\n",
      "  Downloading wwo_hist-0.0.7-py3-none-any.whl (4.6 kB)\n",
      "Installing collected packages: wwo-hist\n",
      "Successfully installed wwo-hist-0.0.7\n",
      "Note: you may need to restart the kernel to use updated packages.\n"
     ]
    }
   ],
   "source": [
    "#pip install wwo-hist"
   ]
  },
  {
   "cell_type": "code",
   "execution_count": 1,
   "id": "6c641a1c",
   "metadata": {},
   "outputs": [],
   "source": [
    "from wwo_hist import retrieve_hist_data"
   ]
  },
  {
   "cell_type": "code",
   "execution_count": 6,
   "id": "e3b43b79",
   "metadata": {},
   "outputs": [],
   "source": [
    "import os"
   ]
  },
  {
   "cell_type": "code",
   "execution_count": 12,
   "id": "d53a862f",
   "metadata": {},
   "outputs": [],
   "source": [
    "os.chdir(\"C:\\\\users\\\\abhis\\\\OneDrive\\\\Documents\")"
   ]
  },
  {
   "cell_type": "code",
   "execution_count": 15,
   "id": "24b564e1",
   "metadata": {},
   "outputs": [],
   "source": [
    "frequency=3\n",
    "start_date = '01-AUG-2019'\n",
    "end_date = '30-SEP-2019'\n",
    "api_key = 'aa7356a4c3a047b496b71640211211'\n",
    "location_list = ['delhi']"
   ]
  },
  {
   "cell_type": "code",
   "execution_count": 16,
   "id": "a1746a49",
   "metadata": {},
   "outputs": [
    {
     "name": "stdout",
     "output_type": "stream",
     "text": [
      "\n",
      "\n",
      "Retrieving weather data for delhi\n",
      "\n",
      "\n",
      "Currently retrieving data for delhi: from 2019-08-01 to 2019-08-31\n",
      "Time elapsed (hh:mm:ss.ms) 0:00:01.706203\n",
      "Currently retrieving data for delhi: from 2019-09-01 to 2019-09-30\n",
      "Time elapsed (hh:mm:ss.ms) 0:00:03.198263\n",
      "\n",
      "\n",
      "export delhi completed!\n",
      "\n",
      "\n"
     ]
    }
   ],
   "source": [
    "hist_weather_data = retrieve_hist_data(api_key,\n",
    "                                location_list,\n",
    "                                start_date,\n",
    "                                end_date,\n",
    "                                frequency,\n",
    "                                location_label = False,\n",
    "                                export_csv = True,\n",
    "                                store_df = True)"
   ]
  },
  {
   "cell_type": "code",
   "execution_count": 18,
   "id": "f5005209",
   "metadata": {},
   "outputs": [
    {
     "name": "stdout",
     "output_type": "stream",
     "text": [
      "\n",
      "\n",
      "Retrieving weather data for gurgaon\n",
      "\n",
      "\n",
      "Currently retrieving data for gurgaon: from 2019-08-01 to 2019-08-31\n",
      "Time elapsed (hh:mm:ss.ms) 0:00:01.205512\n",
      "Currently retrieving data for gurgaon: from 2019-09-01 to 2019-09-30\n",
      "Time elapsed (hh:mm:ss.ms) 0:00:02.439993\n",
      "\n",
      "\n",
      "export gurgaon completed!\n",
      "\n",
      "\n"
     ]
    }
   ],
   "source": [
    "frequency=24\n",
    "start_date = '01-AUG-2019'\n",
    "end_date = '30-SEP-2019'\n",
    "api_key = 'aa7356a4c3a047b496b71640211211'\n",
    "location_list = ['gurgaon']\n",
    "\n",
    "hist_weather_data = retrieve_hist_data(api_key,\n",
    "                                location_list,\n",
    "                                start_date,\n",
    "                                end_date,\n",
    "                                frequency,\n",
    "                                location_label = False,\n",
    "                                export_csv = True,\n",
    "                                store_df = True)"
   ]
  },
  {
   "cell_type": "code",
   "execution_count": null,
   "id": "b1997559",
   "metadata": {},
   "outputs": [],
   "source": [
    "frequency=24\n",
    "start_date = '01-AUG-2019'\n",
    "end_date = '30-SEP-2019'\n",
    "api_key = 'aa7356a4c3a047b496b71640211211'\n",
    "location_list = ['gurgaon']\n",
    "\n",
    "hist_weather_data = retrieve_hist_data(api_key,\n",
    "                                location_list,\n",
    "                                start_date,\n",
    "                                end_date,\n",
    "                                frequency,\n",
    "                                location_label = False,\n",
    "                                export_csv = True,\n",
    "                                store_df = True)"
   ]
  }
 ],
 "metadata": {
  "kernelspec": {
   "display_name": "Python 3",
   "language": "python",
   "name": "python3"
  },
  "language_info": {
   "codemirror_mode": {
    "name": "ipython",
    "version": 3
   },
   "file_extension": ".py",
   "mimetype": "text/x-python",
   "name": "python",
   "nbconvert_exporter": "python",
   "pygments_lexer": "ipython3",
   "version": "3.7.10"
  }
 },
 "nbformat": 4,
 "nbformat_minor": 5
}
